{
 "cells": [
  {
   "cell_type": "code",
   "execution_count": 1,
   "metadata": {},
   "outputs": [
    {
     "name": "stdout",
     "output_type": "stream",
     "text": [
      "Downloading gan_mae_weights.h5...\n",
      "Downloading mse_vgg_weights.h5...\n",
      "Downloading mse_weights.h5...\n",
      "Downloading gan_generator.h5...\n",
      "Downloading mse_and_style.h5...\n",
      "Downloading style_model.h5...\n",
      "Downloading mse_model.h5...\n"
     ]
    }
   ],
   "source": [
    "import pandas as pd\n",
    "import urllib.request\n",
    "import os\n",
    "\n",
    "def main():\n",
    "    model_info = pd.read_csv('model_urls.csv')\n",
    "    for i,r in model_info.iterrows():\n",
    "        print(f'Downloading {r.model}...')\n",
    "        download_file(r.url,f'{r.application}/{r.model}')\n",
    "\n",
    "def download_file(url,filename):\n",
    "    os.system(f'wget -O {filename} {url}')\n",
    "\n",
    "if __name__=='__main__':\n",
    "    main()"
   ]
  },
  {
   "cell_type": "code",
   "execution_count": null,
   "metadata": {},
   "outputs": [],
   "source": []
  }
 ],
 "metadata": {
  "kernelspec": {
   "display_name": "Python 3",
   "language": "python",
   "name": "python3"
  },
  "language_info": {
   "codemirror_mode": {
    "name": "ipython",
    "version": 3
   },
   "file_extension": ".py",
   "mimetype": "text/x-python",
   "name": "python",
   "nbconvert_exporter": "python",
   "pygments_lexer": "ipython3",
   "version": "3.7.6"
  }
 },
 "nbformat": 4,
 "nbformat_minor": 4
}
